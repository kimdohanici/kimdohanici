{
 "cells": [
  {
   "cell_type": "markdown",
   "metadata": {},
   "source": [
    "# Introduction\n",
    "This Jupyter Notebook serves as a demonstration of how Pyomo can be used for optimizing an EV charging network. The goal is to showcase the capabilities of Pyomo in solving complex optimization problems related to EV charging infrastructure.\n",
    "\n",
    "\n",
    "Find the `py_env_setup` folder in the repository, then:\n",
    "- For advanced Python programmer: \n",
    "\n",
    "    **requirements.txt** is provided to set up the EVCSAP project environment. Copy it in your system user folder (e.g., C:\\Users\\z004ffpm). The link below provides a way of using this for environment set up\n",
    " > https://stackoverflow.com/questions/48787250/set-up-virtualenv-using-a-requirements-txt-generated-by-conda\n",
    " \n",
    " \n",
    " \n",
    "- For others: (anaconda is required for set up)\n",
    "    1. Read the **Spec List** or **Environment.yml** section of this blog https://www.anaconda.com/blog/moving-conda-environments. \n",
    "    2. Copy either `EVCSAP_env_list.yml`, or `OptPyomoSP.txt` (depending on which file you use) in your system user folder where the anaconda can find the environment file. (e.g., C:\\Users\\z004ffpm)\n",
    "\n",
    "\n",
    "Furthermore: \n",
    "> - If `geopy` is missing, execute `pip install geopy` in (anaconda) prompt\n",
    "> - If `MPI-SPPy` is missing, use `conda install openmpi`. Then,`conda install mpi4py` and finally `pip install mpi-sppy` in (anaconda) prompt"
   ]
  },
  {
   "cell_type": "code",
   "execution_count": null,
   "metadata": {},
   "outputs": [],
   "source": [
    "# Detect current folder to avoid package import error\n",
    "import os, sys\n",
    "currentdir = os.path.dirname(os.path.realpath(''))\n",
    "parentdir = os.path.dirname(currentdir)\n",
    "sys.path.append(currentdir)"
   ]
  },
  {
   "cell_type": "markdown",
   "metadata": {},
   "source": [
    "## Step 1: Pre-process Geo Data (Grid Connections Excluded)\n",
    "\n",
    "Pre-process to get the Set-up Dictionary for building up **MPDP** frame model which calculates expressions like distances between nodes and EESC, etc. "
   ]
  },
  {
   "cell_type": "code",
   "execution_count": null,
   "metadata": {},
   "outputs": [],
   "source": [
    "# To import Opensource packages\n",
    "import numpy as np\n",
    "import pandas as pd\n",
    "import geopandas as gpd\n",
    "from shapely.geometry import Point, MultiPoint\n",
    "import time\n",
    "import pickle\n",
    "from datetime import datetime\n",
    "\n",
    "import idaes\n",
    "import numpy as np\n",
    "import pyomo.environ as pyo\n",
    "\n",
    "from pyomo.core.util import quicksum \n",
    "from pyomo.core.expr.current import evaluate_expression \n",
    "# Used for calculating distance for nodes with (lat, lon) \n",
    "from geopy.distance import geodesic \n"
   ]
  },
  {
   "cell_type": "code",
   "execution_count": null,
   "metadata": {},
   "outputs": [],
   "source": [
    "m_name = 'test_model'\n",
    "model = pyo.ConcreteModel(name = m_name )\n",
    "print(f\"Built an empty concrete pyomo model named {model.name}. \\nDefining sets   ...\")        "
   ]
  },
  {
   "cell_type": "markdown",
   "metadata": {},
   "source": [
    "## Setup Sets:"
   ]
  },
  {
   "cell_type": "code",
   "execution_count": null,
   "metadata": {},
   "outputs": [],
   "source": [
    "model.I_update = pyo.Set(\n",
    "    initialize = [1, 2, 3],\n",
    "    # initialize = setup_dict['model_sets']['I_update'], \n",
    "    # domain = pyo.NonNegativeIntegers,\n",
    "    doc = 'Candidate locations with EXISITING CSs and CPs.'\n",
    ")\n",
    "\n",
    "\n",
    "model.I_newBuild = pyo.Set(\n",
    "    initialize = [4,5,6],\n",
    "    # domain = pyo.NonNegativeIntegers,  \n",
    "    doc = 'Candidate locations for NEW CS.'\n",
    ") \n",
    "\n",
    "\n",
    "model.J = pyo.Set(\n",
    "    initialize = ['a', 'b', 'c'],\n",
    "    # domain = pyo.NonNegativeIntegers ,    \n",
    "    doc = 'Set of CD centers.'\n",
    "    )\n",
    "\n",
    "\n",
    "model.I = model.I_update | model.I_newBuild # All candidate Locs\n",
    "\n",
    "model.T = pyo.Set(\n",
    "    initialize = ['spring', 'winter'],\n",
    "    # domain = pyo.NonNegativeIntegers ,    \n",
    "    doc = 'Set of time periods.'\n",
    "    )"
   ]
  },
  {
   "cell_type": "code",
   "execution_count": null,
   "metadata": {},
   "outputs": [],
   "source": [
    "model.display()"
   ]
  },
  {
   "cell_type": "code",
   "execution_count": null,
   "metadata": {},
   "outputs": [],
   "source": [
    "model.I.display()"
   ]
  },
  {
   "cell_type": "markdown",
   "metadata": {},
   "source": [
    "## Setup Param."
   ]
  },
  {
   "cell_type": "code",
   "execution_count": null,
   "metadata": {},
   "outputs": [],
   "source": [
    "# model.nodes = pyo.Param(\n",
    "#     (model.I | model.J), \n",
    "#     initialize = [(1,2), (3,4), (4,5)],\n",
    "#     within = pyo.Any,\n",
    "#     doc = \"\"\"Coordinates of all nodes including candilocs and CD centers, used for calculating walking distances\"\"\"\n",
    "# )\n",
    "\n",
    "# model.N_newCPs = pyo.Param(\n",
    "#     initialize = setup_dict['params_basic']['N_newCPs'],\n",
    "#     domain = pyo.NonNegativeIntegers,\n",
    "#     mutable = True, \n",
    "#     # , default = 14\n",
    "#     doc = 'Maximum total amount of new CPs the investors want to install.'\n",
    "# )\n"
   ]
  },
  {
   "cell_type": "markdown",
   "metadata": {},
   "source": [
    "## Setup DVs."
   ]
  },
  {
   "cell_type": "code",
   "execution_count": null,
   "metadata": {},
   "outputs": [],
   "source": [
    "model.x = pyo.Var(\n",
    "    model.I, \n",
    "    domain = pyo.NonNegativeReals, \n",
    "    initialize = 0.50,\n",
    "    bounds = (0.20, 1),\n",
    "    doc = '''This is the charging price for each CS i \\in I'''\n",
    ")"
   ]
  },
  {
   "cell_type": "code",
   "execution_count": null,
   "metadata": {},
   "outputs": [],
   "source": [
    "model.x.display()"
   ]
  },
  {
   "cell_type": "code",
   "execution_count": null,
   "metadata": {},
   "outputs": [],
   "source": [
    "model.gross_revenue = quicksum(\n",
    "        model.calD[i,j,t] * model.tau[i,j] * model.calA[j,t] \\\n",
    "            * model.z[i,j,t] * model.u[i] \\\n",
    "            for i in model.I for j in model.J for t in model.T) * 365\n",
    "\n",
    "model.cs_placement_cost = quicksum(\n",
    "    model.c_x[i] * model.x[i] + model.c_y * model.y[i] \\\n",
    "        for i in model.I\n",
    ")\n",
    "\n",
    "model.obj_profit_no_grid = pyo.Objective(\n",
    "        rule = model.gross_revenue - model.cs_placement_cost , \n",
    "        sense = pyo.maximize\n",
    "    )"
   ]
  },
  {
   "cell_type": "code",
   "execution_count": null,
   "metadata": {},
   "outputs": [],
   "source": [
    "def MaxUpdateCSs(model):\n",
    "    return quicksum(model.x[i] for i in model.I_update) <= model.N_update\n",
    "model.MaxUpdateCSs = pyo.Constraint(rule = MaxUpdateCSs)"
   ]
  },
  {
   "cell_type": "markdown",
   "metadata": {},
   "source": [
    "## Explore Pyomo with Copilot\n"
   ]
  },
  {
   "cell_type": "code",
   "execution_count": null,
   "metadata": {},
   "outputs": [],
   "source": []
  },
  {
   "cell_type": "code",
   "execution_count": null,
   "metadata": {},
   "outputs": [],
   "source": [
    "\n",
    "cost_values = {}\n",
    "for s in model.S:\n",
    "    for t in model.T:\n",
    "        cost_values[s, t] = random.uniform(0, 1.5)\n"
   ]
  },
  {
   "cell_type": "code",
   "execution_count": null,
   "metadata": {},
   "outputs": [],
   "source": [
    "cost_values"
   ]
  },
  {
   "cell_type": "code",
   "execution_count": null,
   "metadata": {},
   "outputs": [],
   "source": [
    "from pyomo.environ import *\n",
    "import random\n",
    "\n",
    "# Create a model\n",
    "model = ConcreteModel()\n",
    "\n",
    "Data_dict = {\n",
    "    'sites': [\"DE_1\", \"DE_3\", \"DK_1\", \"DK5\"],\n",
    "    \"time_periods\": [\"q1\", \"q2\", \"q3\", \"q4\"],\n",
    "    'total_cost': {\n",
    "        ('DE_1', 'q1'): 0.028829095554299522,\n",
    "        ('DE_1', 'q2'): 0.7671715340421157,\n",
    "        ('DE_1', 'q3'): 1.4437029176258833,\n",
    "        ('DE_1', 'q4'): 0.9897958906603088,\n",
    "        ('DE_3', 'q1'): 1.1486292371906317,\n",
    "        ('DE_3', 'q2'): 0.43728232345616846,\n",
    "        ('DE_3', 'q3'): 0.7880991557824376,\n",
    "        ('DE_3', 'q4'): 0.32991921148343106,\n",
    "        ('DK_1', 'q1'): 0.9430381789907805,\n",
    "        ('DK_1', 'q2'): 0.2895551785573069,\n",
    "        ('DK_1', 'q3'): 0.8605290573576347,\n",
    "        ('DK_1', 'q4'): 0.812620950130807,\n",
    "        ('DK5', 'q1'): 1.2666696520561975,\n",
    "        ('DK5', 'q2'): 0.7934970428028281,\n",
    "        ('DK5', 'q3'): 1.167442259088418,\n",
    "        ('DK5', 'q4'): 0.5121052265062618\n",
    "        },\n",
    "    'p_min': 0.1,\n",
    "    'p_max': 0.5,\n",
    "    'd_max': 100\n",
    "}\n",
    "\n",
    "\n",
    "# Define sets\n",
    "model.S = Set(initialize=Data_dict['sites'])\n",
    "model.T = Set(initialize=Data_dict['time_periods'])\n",
    "\n",
    "# Define variables\n",
    "model.d = Var(\n",
    "    model.S, \n",
    "    model.T, \n",
    "    bounds=(0, Data_dict['d_max']),\n",
    "    domain=NonNegativeReals,\n",
    "    doc = 'dv: cd'\n",
    ")\n",
    "\n",
    "model.p = Var(\n",
    "    model.S, \n",
    "    model.T,  \n",
    "    bounds=(Data_dict['p_min'], Data_dict['p_max']),\n",
    "    domain=NonNegativeReals,\n",
    "    doc = 'dv: price'\n",
    ")\n",
    "\n",
    "# Define parameters\n",
    "model.c = Param(\n",
    "    model.S, \n",
    "    model.T, \n",
    "    initialize=Data_dict['total_cost'], \n",
    "    doc = 'param: cost'\n",
    ")\n",
    "# model.p_min = Param(initialize=p_min)\n",
    "# model.p_max = Param(initialize=p_max)\n",
    "# model.d_max = Param(initialize=d_max)\n",
    "\n",
    "# Define objective\n",
    "model.profit = Objective(\n",
    "    expr = sum(\n",
    "        model.d[s,t]*(model.p[s,t]-model.c[s,t]) \\\n",
    "            for s in model.S for t in model.T\n",
    "        ), \n",
    "    sense = maximize\n",
    ")\n",
    "\n",
    "# Define constraints\n",
    "# def price_constraints_rule(model, s, t):\n",
    "#     return model.p_min <= model.p[s,t] <= model.p_max\n",
    "# model.price_constraints = Constraint(model.S, model.T, rule=price_constraints_rule)\n",
    "\n",
    "# def demand_constraints_rule(model, s):\n",
    "#     return model.d[s,t] <= model.d_max\n",
    "# model.demand_constraints = Constraint(model.S, rule=demand_constraints_rule)\n"
   ]
  },
  {
   "cell_type": "code",
   "execution_count": null,
   "metadata": {},
   "outputs": [],
   "source": [
    "model.profit.display()"
   ]
  },
  {
   "cell_type": "code",
   "execution_count": null,
   "metadata": {},
   "outputs": [],
   "source": [
    "from pyomo.opt import SolverFactory\n",
    "\n",
    "# Create a solver instance\n",
    "# solver = SolverFactory('glpk')\n",
    "solver = SolverFactory('ipopt')\n",
    "solver = SolverFactory('cplex')\n",
    "\n",
    "# Solve the model\n",
    "result = solver.solve(model)\n",
    "\n",
    "# # Check the solver status\n",
    "# if result.solver.status == SolverStatus.ok and result.solver.termination_condition == TerminationCondition.optimal:\n",
    "#     # The model was solved to optimality\n",
    "#     print(\"Optimal solution found.\")\n",
    "#     # Access the variable values\n",
    "#     for var in model.component_data_objects(Var):\n",
    "#         print(f\"{var.name}: {var.value}\")\n",
    "# else:\n",
    "#     # The model failed to solveca\n",
    "#     print(\"Solver did not find an optimal solution.\")\n"
   ]
  },
  {
   "cell_type": "code",
   "execution_count": null,
   "metadata": {},
   "outputs": [],
   "source": []
  }
 ],
 "metadata": {
  "kernelspec": {
   "display_name": "Python 3 (ipykernel)",
   "language": "python",
   "name": "python3"
  },
  "language_info": {
   "codemirror_mode": {
    "name": "ipython",
    "version": 3
   },
   "file_extension": ".py",
   "mimetype": "text/x-python",
   "name": "python",
   "nbconvert_exporter": "python",
   "pygments_lexer": "ipython3",
   "version": "3.8.13"
  }
 },
 "nbformat": 4,
 "nbformat_minor": 2
}
