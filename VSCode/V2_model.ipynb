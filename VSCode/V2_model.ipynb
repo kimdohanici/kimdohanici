{
 "cells": [
  {
   "cell_type": "code",
   "execution_count": null,
   "metadata": {},
   "outputs": [],
   "source": [
    "# Detect current folder to avoid package import error\n",
    "\n",
    "import os, sys\n",
    "currentdir = os.path.dirname(os.path.realpath(''))\n",
    "parentdir = os.path.dirname(currentdir)\n",
    "sys.path.append(currentdir)"
   ]
  },
  {
   "cell_type": "code",
   "execution_count": null,
   "metadata": {},
   "outputs": [],
   "source": [
    "# Import Opensource packages\n",
    "\n",
    "import numpy as np\n",
    "import pandas as pd\n",
    "\n",
    "import idaes\n",
    "import pyomo.environ as pyo\n",
    "\n",
    "from pyomo.core.util import quicksum \n",
    "from pyomo.core.expr import evaluate_expression"
   ]
  },
  {
   "cell_type": "markdown",
   "metadata": {},
   "source": [
    "## Create Concrete Model"
   ]
  },
  {
   "cell_type": "code",
   "execution_count": null,
   "metadata": {},
   "outputs": [],
   "source": [
    "from pyomo.environ import *\n",
    "# from mydata import * --> import data from separate file\n",
    "\n",
    "model = ConcreteModel(name = \"Price Optimization\")"
   ]
  },
  {
   "cell_type": "code",
   "execution_count": null,
   "metadata": {},
   "outputs": [],
   "source": [
    "# Define dictionary\n",
    "\n",
    "Data_dict = {\n",
    "    'sites': ['NO', 'DE'],\n",
    "    'time_periods': ['Q4'],\n",
    "    \n",
    "    #'cost_total': {('NO', 'Q4'): 1.32},\n",
    "    # total cost: (cost_energy * d + cost_revshare * d + cost_fixelec + cost_demand + cost_leasing + cost_sm)\n",
    "    \n",
    "    # Variable cost\n",
    "    \n",
    "    'cost_energy': {\n",
    "        ('NO', 'Q4'): 0.21,\n",
    "        ('DE', 'Q4'): 0.31,\n",
    "        },\n",
    "    \n",
    "    'cost_revshare': {\n",
    "        ('NO', 'Q4'): 0.05,\n",
    "        ('DE', 'Q4'): 0.07,\n",
    "        },\n",
    "\n",
    "    # Fixed cost\n",
    "    \n",
    "    'cost_fixelec': {\n",
    "        ('NO', 'Q4'): 0.1, \n",
    "        ('DE', 'Q4'): 0.12,\n",
    "        },\n",
    "    \n",
    "    'cost_demand': {\n",
    "        ('NO', 'Q4'): 0.03,\n",
    "        ('DE', 'Q4'): 0.05,\n",
    "        },\n",
    "    \n",
    "    'cost_leasing': {\n",
    "        ('NO', 'Q4'): 0.02,\n",
    "        ('DE', 'Q4'): 0.04,\n",
    "        },\n",
    "    \n",
    "    'cost_sm': {\n",
    "        ('NO', 'Q4'): 0.05,\n",
    "        ('DE', 'Q4'): 0.07,\n",
    "        },\n",
    "    \n",
    "    'p_min': 0.1,\n",
    "    'p_max': 0.9,\n",
    "    'd_max': 100,\n",
    "    'd_0_DE': 1.73,\n",
    "    'd_p_DE': 1.97,\n",
    "    'd_0_NO': 1.02,\n",
    "    'd_p_NO': 1.25,\n",
    "}\n",
    "\n",
    "# Define sets\n",
    "\n",
    "model.S = Set(initialize=Data_dict['sites'])\n",
    "model.T = Set(initialize=Data_dict['time_periods'])"
   ]
  },
  {
   "cell_type": "code",
   "execution_count": null,
   "metadata": {},
   "outputs": [],
   "source": [
    "model.p = Var(\n",
    "    model.S, \n",
    "    model.T,  \n",
    "    bounds=(Data_dict['p_min'], Data_dict['p_max']),\n",
    "    domain=NonNegativeReals,\n",
    "    doc = 'dv: price'\n",
    ")"
   ]
  },
  {
   "cell_type": "markdown",
   "metadata": {},
   "source": [
    "### Define Parameters"
   ]
  },
  {
   "cell_type": "code",
   "execution_count": null,
   "metadata": {},
   "outputs": [],
   "source": [
    "model.p_min = Param(initialize=Data_dict['p_min'])\n",
    "model.p_max = Param(initialize=Data_dict['p_max'])\n",
    "model.d_max = Param(initialize=Data_dict['d_max'])\n",
    "model.d_0_DE = Param(Data_dict['d_0_DE'], initialize=Data_dict['d_0_DE'], within=NonNegativeReals)\n",
    "model.d_p_DE = Param(Data_dict['d_p_DE'], initialize=Data_dict['d_p_DE'], within=NonNegativeReals)\n",
    "model.d_0_NO = Param(Data_dict['d_0_NO'], initialize=Data_dict['d_0_NO'], within=NonNegativeReals)\n",
    "model.d_p_NO = Param(Data_dict['d_p_NO'], initialize=Data_dict['d_p_NO'], within=NonNegativeReals)\n",
    "\n",
    "# Define the demand function for DE and NO based on the price --> e.g. d(p) = 1 - p\n",
    "\n",
    "def demand_rule(model, s, t):\n",
    "    if s == 'NO':\n",
    "        return model.d_0_NO - model.d_p_NO * model.p[s,t]\n",
    "    elif s == 'DE':\n",
    "        return model.d_0_DE - model.d_p_DE * model.p[s,t]\n",
    "model.d = Expression(model.S, model.T, rule=demand_rule)\n",
    "\n",
    "# Define the total cost calculation for DE and NO\n",
    "\n",
    "def total_cost_rule(model, s, t):\n",
    "    if s == 'NO':\n",
    "        return (\n",
    "            Data_dict['cost_energy'][s,t] * model.d[s,t] +\n",
    "            Data_dict['cost_revshare'][s,t] * model.d[s,t] +\n",
    "            Data_dict['cost_fixelec'][s,t] +\n",
    "            Data_dict['cost_demand'][s,t] +\n",
    "            Data_dict['cost_leasing'][s,t] +\n",
    "            Data_dict['cost_sm'][s,t]\n",
    "        )\n",
    "    elif s == 'DE':\n",
    "        return (\n",
    "            Data_dict['cost_energy'][s,t] * model.d[s,t] +\n",
    "            Data_dict['cost_revshare'][s,t] * model.d[s,t] +\n",
    "            Data_dict['cost_fixelec'][s,t] +\n",
    "            Data_dict['cost_demand'][s,t] +\n",
    "            Data_dict['cost_leasing'][s,t] +\n",
    "            Data_dict['cost_sm'][s,t]\n",
    "        )\n",
    "model.c = Expression(model.S, model.T, rule=total_cost_rule)"
   ]
  },
  {
   "cell_type": "code",
   "execution_count": null,
   "metadata": {},
   "outputs": [],
   "source": [
    "# Define objective for DE and NO \n",
    "\n",
    "def obj_rule_DE(model):\n",
    "    return sum(\n",
    "        model.d[s,t] * (model.p[s,t] - model.c[s,t])\n",
    "        for s in model.S if s == 'DE' for t in model.T\n",
    "    )\n",
    "model.profit_DE = Objective(rule=obj_rule_DE, sense=maximize)\n",
    "\n",
    "def obj_rule_NO(model):\n",
    "    return sum(\n",
    "        model.d[s,t] * (model.p[s,t] - model.c[s,t])\n",
    "        for s in model.S if s == 'NO' for t in model.T\n",
    "    )\n",
    "model.profit_NO = Objective(rule=obj_rule_NO, sense=maximize)\n",
    "\n",
    "# Alternative\n",
    "\n",
    "# model.profit = Objective(\n",
    "    #expr = sum(\n",
    "        #model.d[s,t]*(model.p[s,t]-model.c[s,t]) \\\n",
    "            #for s in model.S for t in model.T\n",
    "        #), \n",
    "    #sense = maximize\n",
    "#)"
   ]
  },
  {
   "cell_type": "code",
   "execution_count": null,
   "metadata": {},
   "outputs": [],
   "source": [
    "# Define constraints\n",
    "\n",
    "def price_constraint_rule(model, s, t):\n",
    "    return model.p_min <= model.p[s,t] <= model.p_max\n",
    "model.price_constraint = Constraint(model.S, model.T, rule=price_constraint_rule)\n",
    "\n",
    "def demand_constraint_rule(model, s, t):\n",
    "    return model.d[s,t] <= model.d_max\n",
    "model.demand_constraints = Constraint(model.S, rule=demand_constraint_rule)"
   ]
  },
  {
   "cell_type": "code",
   "execution_count": null,
   "metadata": {},
   "outputs": [],
   "source": [
    "from pyomo.opt import SolverFactory\n",
    "from pyomo.opt import SolverStatus, TerminationCondition\n",
    "\n",
    "# Create a solver instance\n",
    "solver = SolverFactory('cplex')\n",
    "\n",
    "# Solve the model\n",
    "result = solver.solve(model)\n",
    "\n",
    "# Check the solver status\n",
    "if result.solver.status == SolverStatus.ok and result.solver.termination_condition == TerminationCondition.optimal:\n",
    "    # The model was solved to optimality\n",
    "    print(\"Optimal solution found.\")\n",
    "    # Access the variable values\n",
    "    for var in model.component_data_objects(Var):\n",
    "        print(f\"{var.name}: {var.value}\")\n",
    "else:\n",
    "    # The model failed to solve\n",
    "    print(\"Solver did not find an optimal solution.\")"
   ]
  },
  {
   "cell_type": "code",
   "execution_count": null,
   "metadata": {},
   "outputs": [],
   "source": []
  }
 ],
 "metadata": {
  "kernelspec": {
   "display_name": "Python 3",
   "language": "python",
   "name": "python3"
  },
  "language_info": {
   "codemirror_mode": {
    "name": "ipython",
    "version": 3
   },
   "file_extension": ".py",
   "mimetype": "text/x-python",
   "name": "python",
   "nbconvert_exporter": "python",
   "pygments_lexer": "ipython3",
   "version": "3.10.13"
  }
 },
 "nbformat": 4,
 "nbformat_minor": 2
}
