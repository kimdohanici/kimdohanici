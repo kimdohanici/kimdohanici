{
 "cells": [
  {
   "cell_type": "code",
   "execution_count": 18,
   "metadata": {},
   "outputs": [],
   "source": [
    "# Detect current folder to avoid package import error\n",
    "\n",
    "import os, sys\n",
    "currentdir = os.path.dirname(os.path.realpath(''))\n",
    "parentdir = os.path.dirname(currentdir)\n",
    "sys.path.append(currentdir)"
   ]
  },
  {
   "cell_type": "code",
   "execution_count": 19,
   "metadata": {},
   "outputs": [],
   "source": [
    "# Import Opensource packages\n",
    "\n",
    "import numpy as np\n",
    "import pandas as pd\n",
    "\n",
    "import idaes\n",
    "import pyomo.environ as pyo\n",
    "\n",
    "from pyomo.core.util import quicksum \n",
    "from pyomo.core.expr import evaluate_expression"
   ]
  },
  {
   "cell_type": "markdown",
   "metadata": {},
   "source": [
    "## Create Concrete Model"
   ]
  },
  {
   "cell_type": "code",
   "execution_count": 20,
   "metadata": {},
   "outputs": [],
   "source": [
    "from pyomo.environ import *\n",
    "#from mydata import *\n",
    "\n",
    "model = ConcreteModel(name = \"Price Optimization\")"
   ]
  },
  {
   "cell_type": "code",
   "execution_count": 22,
   "metadata": {},
   "outputs": [
    {
     "name": "stdout",
     "output_type": "stream",
     "text": [
      "WARNING: Implicitly replacing the Component attribute S (type=<class\n",
      "'pyomo.core.base.set.OrderedScalarSet'>) on block Price Optimization with a\n",
      "new Component (type=<class 'pyomo.core.base.set.AbstractOrderedScalarSet'>).\n",
      "This is usually indicative of a modelling error. To avoid this warning, use\n",
      "block.del_component() and block.add_component().\n",
      "WARNING: Implicitly replacing the Component attribute T (type=<class\n",
      "'pyomo.core.base.set.OrderedScalarSet'>) on block Price Optimization with a\n",
      "new Component (type=<class 'pyomo.core.base.set.AbstractOrderedScalarSet'>).\n",
      "This is usually indicative of a modelling error. To avoid this warning, use\n",
      "block.del_component() and block.add_component().\n"
     ]
    }
   ],
   "source": [
    "# Define dictionary\n",
    "\n",
    "Data_dict = {\n",
    "    'sites': ['NO', 'DE'],\n",
    "    'time_periods': ['Q4'],\n",
    "    \n",
    "    # 'cost_total': {\n",
    "        # ('NO', 'Q4'): 1.32,\n",
    "        # ('DE', 'Q4'): 1.05,\n",
    "        # },\n",
    "        \n",
    "    # total cost: (cost_energy * d + cost_revshare * d + cost_fixelec + cost_demand + cost_leasing + cost_sm)\n",
    "    \n",
    "    # Variable cost\n",
    "    \n",
    "    'cost_energy': {\n",
    "        ('NO', 'Q4'): 0.21,\n",
    "        ('DE', 'Q4'): 0.31,\n",
    "        },\n",
    "    \n",
    "    'cost_revshare': {\n",
    "        ('NO', 'Q4'): 0.05,\n",
    "        ('DE', 'Q4'): 0.07,\n",
    "        },\n",
    "\n",
    "    # Fixed cost\n",
    "    \n",
    "    'cost_fixelec': {\n",
    "        ('NO', 'Q4'): 0.1, \n",
    "        ('DE', 'Q4'): 0.12,\n",
    "        },\n",
    "    \n",
    "    'cost_demand': {\n",
    "        ('NO', 'Q4'): 0.03,\n",
    "        ('DE', 'Q4'): 0.05,\n",
    "        },\n",
    "    \n",
    "    'cost_leasing': {\n",
    "        ('NO', 'Q4'): 0.02,\n",
    "        ('DE', 'Q4'): 0.04,\n",
    "        },\n",
    "    \n",
    "    'cost_sm': {\n",
    "        ('NO', 'Q4'): 0.05,\n",
    "        ('DE', 'Q4'): 0.07,\n",
    "        },\n",
    "    \n",
    "    'p_min': 0.1,\n",
    "    'p_max': 0.9,\n",
    "    'd_max': 100,\n",
    "    'd_0': 1.73,\n",
    "    'd_p': 1.97,\n",
    "}\n",
    "\n",
    "# Define sets\n",
    "\n",
    "model.S = Set(initialize=Data_dict['sites'])\n",
    "model.T = Set(initialize=Data_dict['time_periods'])"
   ]
  },
  {
   "cell_type": "code",
   "execution_count": 23,
   "metadata": {},
   "outputs": [],
   "source": [
    "model.p = Var(\n",
    "    model.S, \n",
    "    model.T,  \n",
    "    bounds=(Data_dict['p_min'], Data_dict['p_max']),\n",
    "    domain=NonNegativeReals,\n",
    "    doc = 'dv: price'\n",
    ")"
   ]
  },
  {
   "cell_type": "markdown",
   "metadata": {},
   "source": [
    "### Define Parameters"
   ]
  },
  {
   "cell_type": "code",
   "execution_count": 24,
   "metadata": {},
   "outputs": [],
   "source": [
    "model.p_min = Param(initialize=Data_dict['p_min'])\n",
    "model.p_max = Param(initialize=Data_dict['p_max'])\n",
    "model.d_max = Param(initialize=Data_dict['d_max'])\n",
    "model.d_0 = Param(initialize=Data_dict['d_0'], within=NonNegativeReals)\n",
    "model.d_p = Param(initialize=Data_dict['d_p'], within=NonNegativeReals)\n",
    "\n",
    "# Define the demand function based on the price --> e.g. d(p) = 1 - p\n",
    "\n",
    "def demand_rule(model, s, t):\n",
    "    return model.d_0 - model.d_p * model.p[s, t]\n",
    "model.d = Expression(model.S, model.T, rule=demand_rule)\n",
    "\n",
    "# Define the total cost calculation\n",
    "\n",
    "def total_cost_rule(model, s, t):\n",
    "    return (\n",
    "        Data_dict['cost_energy'][s,t] * model.d[s,t] +\n",
    "        Data_dict['cost_revshare'][s,t] * model.d[s,t] +\n",
    "        Data_dict['cost_fixelec'][s,t] +\n",
    "        Data_dict['cost_demand'][s,t] +\n",
    "        Data_dict['cost_leasing'][s,t] +\n",
    "        Data_dict['cost_sm'][s,t]\n",
    "    )\n",
    "model.c = Expression(model.S, model.T, rule=total_cost_rule)"
   ]
  },
  {
   "cell_type": "code",
   "execution_count": 25,
   "metadata": {},
   "outputs": [],
   "source": [
    "# Define objective\n",
    "\n",
    "def obj_rule(model):\n",
    "    return sum(\n",
    "        model.d[s,t] * (model.p[s,t]-model.c[s,t])\n",
    "            for s in model.S for t in model.T\n",
    "        )\n",
    "model.profit = Objective(rule=obj_rule, sense=maximize)\n",
    "\n",
    "# Alternative\n",
    "\n",
    "#model.profit = Objective(\n",
    "    #expr = sum(\n",
    "        #model.d[s,t]*(model.p[s,t]-model.c[s,t]) \\\n",
    "            #for s in model.S for t in model.T\n",
    "        #), \n",
    "    #sense = maximize\n",
    "#)"
   ]
  },
  {
   "cell_type": "code",
   "execution_count": 26,
   "metadata": {},
   "outputs": [],
   "source": [
    "# Define constraints\n",
    "\n",
    "def price_constraint_rule(model, s, t):\n",
    "    return inequality(model.p[s,t], model.p_min, model.p_max)\n",
    "model.price_constraint = Constraint(model.S, model.T, rule=price_constraint_rule)\n",
    "\n",
    "def demand_constraint_rule(model, s, t):\n",
    "    return model.d[s,t] <= model.d_max\n",
    "model.demand_constraints = Constraint(model.S, model.T, rule=demand_constraint_rule)"
   ]
  },
  {
   "cell_type": "code",
   "execution_count": 30,
   "metadata": {},
   "outputs": [
    {
     "name": "stdout",
     "output_type": "stream",
     "text": [
      "/Programme/CPLEX_Studio2211/cplex/bin/x86-64_osx/cplex\n"
     ]
    }
   ],
   "source": [
    "import os\n",
    "os.environ[\"PYOMO_EXE\"] = \"/Programme/CPLEX_Studio2211/cplex/bin/x86-64_osx/cplex\"\n",
    "print(os.environ.get(\"PYOMO_EXE\"))"
   ]
  },
  {
   "cell_type": "markdown",
   "metadata": {},
   "source": [
    "## Solving the Model"
   ]
  },
  {
   "cell_type": "code",
   "execution_count": 29,
   "metadata": {},
   "outputs": [
    {
     "name": "stdout",
     "output_type": "stream",
     "text": [
      "WARNING: Could not locate the 'cplex' executable, which is required for solver\n",
      "cplex\n"
     ]
    },
    {
     "ename": "ApplicationError",
     "evalue": "No executable found for solver 'cplex'",
     "output_type": "error",
     "traceback": [
      "\u001b[0;31m---------------------------------------------------------------------------\u001b[0m",
      "\u001b[0;31mApplicationError\u001b[0m                          Traceback (most recent call last)",
      "Cell \u001b[0;32mIn[29], line 8\u001b[0m\n\u001b[1;32m      5\u001b[0m solver \u001b[38;5;241m=\u001b[39m SolverFactory(\u001b[38;5;124m'\u001b[39m\u001b[38;5;124mcplex\u001b[39m\u001b[38;5;124m'\u001b[39m)\n\u001b[1;32m      7\u001b[0m \u001b[38;5;66;03m# Solve the model\u001b[39;00m\n\u001b[0;32m----> 8\u001b[0m result \u001b[38;5;241m=\u001b[39m \u001b[43msolver\u001b[49m\u001b[38;5;241;43m.\u001b[39;49m\u001b[43msolve\u001b[49m\u001b[43m(\u001b[49m\u001b[43mmodel\u001b[49m\u001b[43m)\u001b[49m\n\u001b[1;32m     10\u001b[0m \u001b[38;5;66;03m# Check the solver status\u001b[39;00m\n\u001b[1;32m     11\u001b[0m \u001b[38;5;28;01mif\u001b[39;00m result\u001b[38;5;241m.\u001b[39msolver\u001b[38;5;241m.\u001b[39mstatus \u001b[38;5;241m==\u001b[39m SolverStatus\u001b[38;5;241m.\u001b[39mok \u001b[38;5;129;01mand\u001b[39;00m result\u001b[38;5;241m.\u001b[39msolver\u001b[38;5;241m.\u001b[39mtermination_condition \u001b[38;5;241m==\u001b[39m TerminationCondition\u001b[38;5;241m.\u001b[39moptimal:\n\u001b[1;32m     12\u001b[0m     \u001b[38;5;66;03m# The model was solved to optimality\u001b[39;00m\n",
      "File \u001b[0;32m~/opt/anaconda3/envs/my-idaes-env/lib/python3.10/site-packages/pyomo/opt/base/solvers.py:534\u001b[0m, in \u001b[0;36mOptSolver.solve\u001b[0;34m(self, *args, **kwds)\u001b[0m\n\u001b[1;32m    531\u001b[0m \u001b[38;5;28;01mdef\u001b[39;00m \u001b[38;5;21msolve\u001b[39m(\u001b[38;5;28mself\u001b[39m, \u001b[38;5;241m*\u001b[39margs, \u001b[38;5;241m*\u001b[39m\u001b[38;5;241m*\u001b[39mkwds):\n\u001b[1;32m    532\u001b[0m \u001b[38;5;250m    \u001b[39m\u001b[38;5;124;03m\"\"\"Solve the problem\"\"\"\u001b[39;00m\n\u001b[0;32m--> 534\u001b[0m     \u001b[38;5;28;43mself\u001b[39;49m\u001b[38;5;241;43m.\u001b[39;49m\u001b[43mavailable\u001b[49m\u001b[43m(\u001b[49m\u001b[43mexception_flag\u001b[49m\u001b[38;5;241;43m=\u001b[39;49m\u001b[38;5;28;43;01mTrue\u001b[39;49;00m\u001b[43m)\u001b[49m\n\u001b[1;32m    535\u001b[0m     \u001b[38;5;66;03m#\u001b[39;00m\n\u001b[1;32m    536\u001b[0m     \u001b[38;5;66;03m# If the inputs are models, then validate that they have been\u001b[39;00m\n\u001b[1;32m    537\u001b[0m     \u001b[38;5;66;03m# constructed! Collect suffix names to try and import from solution.\u001b[39;00m\n\u001b[1;32m    538\u001b[0m     \u001b[38;5;66;03m#\u001b[39;00m\n\u001b[1;32m    539\u001b[0m     \u001b[38;5;28;01mfrom\u001b[39;00m \u001b[38;5;21;01mpyomo\u001b[39;00m\u001b[38;5;21;01m.\u001b[39;00m\u001b[38;5;21;01mcore\u001b[39;00m\u001b[38;5;21;01m.\u001b[39;00m\u001b[38;5;21;01mbase\u001b[39;00m\u001b[38;5;21;01m.\u001b[39;00m\u001b[38;5;21;01mblock\u001b[39;00m \u001b[38;5;28;01mimport\u001b[39;00m _BlockData\n",
      "File \u001b[0;32m~/opt/anaconda3/envs/my-idaes-env/lib/python3.10/site-packages/pyomo/opt/solver/ilmcmd.py:35\u001b[0m, in \u001b[0;36mILMLicensedSystemCallSolver.available\u001b[0;34m(self, exception_flag)\u001b[0m\n\u001b[1;32m     33\u001b[0m \u001b[38;5;28;01mif\u001b[39;00m \u001b[38;5;28mself\u001b[39m\u001b[38;5;241m.\u001b[39m_assert_available:\n\u001b[1;32m     34\u001b[0m     \u001b[38;5;28;01mreturn\u001b[39;00m \u001b[38;5;28;01mTrue\u001b[39;00m\n\u001b[0;32m---> 35\u001b[0m \u001b[38;5;28;01mif\u001b[39;00m \u001b[38;5;129;01mnot\u001b[39;00m \u001b[43mpyomo\u001b[49m\u001b[38;5;241;43m.\u001b[39;49m\u001b[43mopt\u001b[49m\u001b[38;5;241;43m.\u001b[39;49m\u001b[43msolver\u001b[49m\u001b[38;5;241;43m.\u001b[39;49m\u001b[43mshellcmd\u001b[49m\u001b[38;5;241;43m.\u001b[39;49m\u001b[43mSystemCallSolver\u001b[49m\u001b[38;5;241;43m.\u001b[39;49m\u001b[43mavailable\u001b[49m\u001b[43m(\u001b[49m\n\u001b[1;32m     36\u001b[0m \u001b[43m    \u001b[49m\u001b[38;5;28;43mself\u001b[39;49m\u001b[43m,\u001b[49m\u001b[43m \u001b[49m\u001b[43mexception_flag\u001b[49m\n\u001b[1;32m     37\u001b[0m \u001b[43m\u001b[49m\u001b[43m)\u001b[49m:\n\u001b[1;32m     38\u001b[0m     \u001b[38;5;28;01mreturn\u001b[39;00m \u001b[38;5;28;01mFalse\u001b[39;00m\n\u001b[1;32m     39\u001b[0m executable \u001b[38;5;241m=\u001b[39m pyomo\u001b[38;5;241m.\u001b[39mcommon\u001b[38;5;241m.\u001b[39mExecutable(\u001b[38;5;124m\"\u001b[39m\u001b[38;5;124milmlist\u001b[39m\u001b[38;5;124m\"\u001b[39m)\n",
      "File \u001b[0;32m~/opt/anaconda3/envs/my-idaes-env/lib/python3.10/site-packages/pyomo/opt/solver/shellcmd.py:139\u001b[0m, in \u001b[0;36mSystemCallSolver.available\u001b[0;34m(self, exception_flag)\u001b[0m\n\u001b[1;32m    137\u001b[0m     \u001b[38;5;28;01mif\u001b[39;00m exception_flag:\n\u001b[1;32m    138\u001b[0m         msg \u001b[38;5;241m=\u001b[39m \u001b[38;5;124m\"\u001b[39m\u001b[38;5;124mNo executable found for solver \u001b[39m\u001b[38;5;124m'\u001b[39m\u001b[38;5;132;01m%s\u001b[39;00m\u001b[38;5;124m'\u001b[39m\u001b[38;5;124m\"\u001b[39m\n\u001b[0;32m--> 139\u001b[0m         \u001b[38;5;28;01mraise\u001b[39;00m ApplicationError(msg \u001b[38;5;241m%\u001b[39m \u001b[38;5;28mself\u001b[39m\u001b[38;5;241m.\u001b[39mname)\n\u001b[1;32m    140\u001b[0m     \u001b[38;5;28;01mreturn\u001b[39;00m \u001b[38;5;28;01mFalse\u001b[39;00m\n\u001b[1;32m    141\u001b[0m \u001b[38;5;28;01mreturn\u001b[39;00m \u001b[38;5;28;01mTrue\u001b[39;00m\n",
      "\u001b[0;31mApplicationError\u001b[0m: No executable found for solver 'cplex'"
     ]
    }
   ],
   "source": [
    "from pyomo.opt import SolverFactory\n",
    "from pyomo.opt import SolverStatus, TerminationCondition\n",
    "\n",
    "# Create a solver instance\n",
    "solver = SolverFactory('cplex')\n",
    "\n",
    "# Solve the model\n",
    "result = solver.solve(model)\n",
    "\n",
    "# Check the solver status\n",
    "if result.solver.status == SolverStatus.ok and result.solver.termination_condition == TerminationCondition.optimal:\n",
    "    # The model was solved to optimality\n",
    "    print(\"Optimal solution found.\")\n",
    "    # Access the variable values\n",
    "    for var in model.component_data_objects(Var):\n",
    "        print(f\"{var.name}: {var.value}\")\n",
    "else:\n",
    "    # The model failed to solve\n",
    "    print(\"Solver did not find an optimal solution.\")"
   ]
  }
 ],
 "metadata": {
  "kernelspec": {
   "display_name": "Python 3",
   "language": "python",
   "name": "python3"
  },
  "language_info": {
   "codemirror_mode": {
    "name": "ipython",
    "version": 3
   },
   "file_extension": ".py",
   "mimetype": "text/x-python",
   "name": "python",
   "nbconvert_exporter": "python",
   "pygments_lexer": "ipython3",
   "version": "3.10.13"
  }
 },
 "nbformat": 4,
 "nbformat_minor": 2
}
