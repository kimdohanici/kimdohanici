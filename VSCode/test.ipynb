{
 "cells": [
  {
   "cell_type": "code",
   "execution_count": 1,
   "metadata": {},
   "outputs": [],
   "source": [
    "# Detect current folder to avoid package import error\n",
    "import os, sys\n",
    "currentdir = os.path.dirname(os.path.realpath(''))\n",
    "parentdir = os.path.dirname(currentdir)\n",
    "sys.path.append(currentdir)"
   ]
  },
  {
   "cell_type": "markdown",
   "metadata": {},
   "source": [
    "## Step 1: Pre-process Geo Data (Grid Connections Excluded)\n",
    "\n",
    "Pre-process to get the Set-up Dictionary for building up **MPDP** frame model which calculates expressions like distances between nodes and EESC, etc. "
   ]
  },
  {
   "cell_type": "code",
   "execution_count": 2,
   "metadata": {},
   "outputs": [
    {
     "ename": "ModuleNotFoundError",
     "evalue": "No module named 'idaes'",
     "output_type": "error",
     "traceback": [
      "\u001b[0;31m---------------------------------------------------------------------------\u001b[0m",
      "\u001b[0;31mModuleNotFoundError\u001b[0m                       Traceback (most recent call last)",
      "Cell \u001b[0;32mIn[2], line 10\u001b[0m\n\u001b[1;32m      3\u001b[0m \u001b[38;5;28;01mimport\u001b[39;00m \u001b[38;5;21;01mpandas\u001b[39;00m \u001b[38;5;28;01mas\u001b[39;00m \u001b[38;5;21;01mpd\u001b[39;00m\n\u001b[1;32m      4\u001b[0m \u001b[38;5;66;03m#import geopandas as gpd \u001b[39;00m\n\u001b[1;32m      5\u001b[0m \u001b[38;5;66;03m#from shapely.geometry import Point, MultiPoint\u001b[39;00m\n\u001b[1;32m      6\u001b[0m \u001b[38;5;66;03m#import time\u001b[39;00m\n\u001b[1;32m      7\u001b[0m \u001b[38;5;66;03m#import pickle\u001b[39;00m\n\u001b[1;32m      8\u001b[0m \u001b[38;5;66;03m#from datetime import datetime\u001b[39;00m\n\u001b[0;32m---> 10\u001b[0m \u001b[38;5;28;01mimport\u001b[39;00m \u001b[38;5;21;01midaes\u001b[39;00m\n\u001b[1;32m     11\u001b[0m \u001b[38;5;28;01mimport\u001b[39;00m \u001b[38;5;21;01mnumpy\u001b[39;00m \u001b[38;5;28;01mas\u001b[39;00m \u001b[38;5;21;01mnp\u001b[39;00m\n\u001b[1;32m     12\u001b[0m \u001b[38;5;28;01mimport\u001b[39;00m \u001b[38;5;21;01mpyomo\u001b[39;00m\u001b[38;5;21;01m.\u001b[39;00m\u001b[38;5;21;01menviron\u001b[39;00m \u001b[38;5;28;01mas\u001b[39;00m \u001b[38;5;21;01mpyo\u001b[39;00m\n",
      "\u001b[0;31mModuleNotFoundError\u001b[0m: No module named 'idaes'"
     ]
    }
   ],
   "source": [
    "# To import Opensource packages\n",
    "import numpy as np\n",
    "import pandas as pd\n",
    "#import geopandas as gpd \n",
    "#from shapely.geometry import Point, MultiPoint\n",
    "#import time\n",
    "#import pickle\n",
    "#from datetime import datetime\n",
    "\n",
    "import idaes\n",
    "import numpy as np\n",
    "import pyomo.environ as pyo\n",
    "\n",
    "from pyomo.core.util import quicksum \n",
    "from pyomo.core.expr.current import evaluate_expression "
   ]
  },
  {
   "cell_type": "code",
   "execution_count": null,
   "metadata": {},
   "outputs": [],
   "source": [
    "m_name = 'test_model'\n",
    "model = pyo.ConcreteModel(name = m_name )\n",
    "print(f\"Built an empty concrete pyomo model named {model.name}. \\nDefining sets   ...\") "
   ]
  },
  {
   "cell_type": "markdown",
   "metadata": {},
   "source": [
    "## Setup Sets"
   ]
  },
  {
   "cell_type": "code",
   "execution_count": null,
   "metadata": {},
   "outputs": [],
   "source": [
    "model.I_update = pyo.Set(\n",
    "    initialize = [1, 2, 3],\n",
    "    # initialize = setup_dict['model_sets']['I_update'], \n",
    "    # domain = pyo.NonNegativeIntegers,\n",
    "    doc = 'Candidate locations with EXISTING CSs and CPs.'\n",
    ")\n",
    "\n",
    "\n",
    "model.I_newBuild = pyo.Set(\n",
    "    initialize = [4,5,6],\n",
    "    # domain = pyo.NonNegativeIntegers,  \n",
    "    doc = 'Candidate locations for NEW CS.'\n",
    ") \n",
    "\n",
    "\n",
    "model.J = pyo.Set(\n",
    "    initialize = ['a', 'b', 'c'],\n",
    "    # domain = pyo.NonNegativeIntegers ,    \n",
    "    doc = 'Set of CD centers.'\n",
    "    )\n",
    "\n",
    "\n",
    "model.I = model.I_update | model.I_newBuild # All candidate Locs\n",
    "\n",
    "model.T = pyo.Set(\n",
    "    initialize = ['spring', 'winter'],\n",
    "    # domain = pyo.NonNegativeIntegers ,    \n",
    "    doc = 'Set of time periods.'\n",
    "    )"
   ]
  },
  {
   "cell_type": "code",
   "execution_count": null,
   "metadata": {},
   "outputs": [],
   "source": [
    "model.display()"
   ]
  },
  {
   "cell_type": "code",
   "execution_count": null,
   "metadata": {},
   "outputs": [],
   "source": [
    "model.I.display()"
   ]
  },
  {
   "cell_type": "markdown",
   "metadata": {},
   "source": [
    "## Setup Parameters"
   ]
  },
  {
   "cell_type": "code",
   "execution_count": null,
   "metadata": {},
   "outputs": [],
   "source": [
    "# model.nodes = pyo.Param(\n",
    "#     (model.I | model.J), \n",
    "#     initialize = [(1,2), (3,4), (4,5)],\n",
    "#     within = pyo.Any,\n",
    "#     doc = \"\"\"Coordinates of all nodes including candilocs and CD centers, used for calculating walking distances\"\"\"\n",
    "# )\n",
    "\n",
    "# model.N_newCPs = pyo.Param(\n",
    "#     initialize = setup_dict['params_basic']['N_newCPs'],\n",
    "#     domain = pyo.NonNegativeIntegers,\n",
    "#     mutable = True, \n",
    "#     # , default = 14\n",
    "#     doc = 'Maximum total amount of new CPs the investors want to install.'\n",
    "# )"
   ]
  },
  {
   "cell_type": "markdown",
   "metadata": {},
   "source": [
    "## Setup DVs"
   ]
  },
  {
   "cell_type": "code",
   "execution_count": null,
   "metadata": {},
   "outputs": [],
   "source": [
    "model.x = pyo.Var(\n",
    "    model.I, \n",
    "    domain = pyo.NonNegativeReals, \n",
    "    initialize = 0.50,\n",
    "    bounds = (0.20, 1),\n",
    "    doc = '''This is the charging price for each CS i \\in I'''\n",
    ")"
   ]
  },
  {
   "cell_type": "code",
   "execution_count": null,
   "metadata": {},
   "outputs": [],
   "source": [
    "model.x.display()"
   ]
  },
  {
   "cell_type": "markdown",
   "metadata": {},
   "source": [
    "## Setup Objective Function"
   ]
  },
  {
   "cell_type": "code",
   "execution_count": null,
   "metadata": {},
   "outputs": [],
   "source": [
    "model.gross_revenue = quicksum(\n",
    "        model.calD[i,j,t] * model.tau[i,j] * model.calA[j,t] \\\n",
    "            * model.z[i,j,t] * model.u[i] \\\n",
    "            for i in model.I for j in model.J for t in model.T) * 365\n",
    "\n",
    "model.cs_placement_cost = quicksum(\n",
    "    model.c_x[i] * model.x[i] + model.c_y * model.y[i] \\\n",
    "        for i in model.I\n",
    ")\n",
    "\n",
    "model.obj_profit_no_grid = pyo.Objective(\n",
    "        rule = model.gross_revenue - model.cs_placement_cost , \n",
    "        sense = pyo.maximize\n",
    "    )"
   ]
  },
  {
   "cell_type": "markdown",
   "metadata": {},
   "source": [
    "## Example Price Optimization\n"
   ]
  },
  {
   "cell_type": "code",
   "execution_count": null,
   "metadata": {},
   "outputs": [],
   "source": [
    "from pyomo.environ import *\n",
    "import random\n",
    "\n",
    "# Create a model\n",
    "model = ConcreteModel()\n",
    "\n",
    "Data_dict = {\n",
    "    'sites': [\"DE\", \"NO\"],\n",
    "    \"time_periods\": [\"Q1\", \"Q2\", \"Q3\", \"Q4\"],\n",
    "    'total_cost': {\n",
    "        ('DE', 'Q1'): 0.028,\n",
    "        ('DE', 'Q2'): 0.76,\n",
    "        ('DE', 'Q3'): 1.44,\n",
    "        ('DE', 'Q4'): 0.98,\n",
    "        ('NO', 'Q1'): 1.14,\n",
    "        ('NO', 'Q2'): 0.43,\n",
    "        ('NO', 'Q3'): 0.78,\n",
    "        ('NO', 'Q4'): 0.32,\n",
    "        },\n",
    "    'variable_cost': {\n",
    "        ('DE', 'Q1'): 0.028,\n",
    "        ('DE', 'Q2'): 0.76,\n",
    "        ('DE', 'Q3'): 1.44,\n",
    "        ('DE', 'Q4'): 0.98,\n",
    "        ('NO', 'Q1'): 1.14,\n",
    "        ('NO', 'Q2'): 0.43,\n",
    "        ('NO', 'Q3'): 0.78,\n",
    "        ('NO', 'Q4'): 0.32,\n",
    "        },\n",
    "    'fixed_cost': {\n",
    "        ('DE', 'Q1'): 0.028,\n",
    "        ('DE', 'Q2'): 0.76,\n",
    "        ('DE', 'Q3'): 1.44,\n",
    "        ('DE', 'Q4'): 0.98,\n",
    "        ('NO', 'Q1'): 1.14,\n",
    "        ('NO', 'Q2'): 0.43,\n",
    "        ('NO', 'Q3'): 0.78,\n",
    "        ('NO', 'Q4'): 0.32,\n",
    "        },\n",
    "    'p_min': 0.1,\n",
    "    'p_max': 0.5,\n",
    "    'd_max': 100\n",
    "}\n",
    "\n",
    "# Define sets\n",
    "model.S = Set(initialize=Data_dict['sites'])\n",
    "model.T = Set(initialize=Data_dict['time_periods'])\n",
    "\n",
    "# Define variables\n",
    "model.d = Var(\n",
    "    model.S, \n",
    "    model.T, \n",
    "    bounds=(0, Data_dict['d_max']),\n",
    "    domain=NonNegativeReals,\n",
    "    doc = 'dv: cd'\n",
    ")\n",
    "\n",
    "model.p = Var(\n",
    "    model.S, \n",
    "    model.T,  \n",
    "    bounds=(Data_dict['p_min'], Data_dict['p_max']),\n",
    "    domain=NonNegativeReals,\n",
    "    doc = 'dv: price'\n",
    ")\n",
    "\n",
    "# Define parameters\n",
    "model.c = Param(\n",
    "    model.S, \n",
    "    model.T, \n",
    "    initialize=Data_dict['total_cost'], \n",
    "    doc = 'param: cost'\n",
    ")\n",
    "# model.p_min = Param(initialize=p_min)\n",
    "# model.p_max = Param(initialize=p_max)\n",
    "# model.d_max = Param(initialize=d_max)\n",
    "\n",
    "# Define objective\n",
    "model.profit = Objective(\n",
    "    expr = sum(\n",
    "        model.d[s,t]*(model.p[s,t]-model.c[s,t]) \\\n",
    "            for s in model.S for t in model.T\n",
    "        ), \n",
    "    sense = maximize\n",
    ")\n",
    "\n",
    "# Define constraints\n",
    "# def price_constraints_rule(model, s, t):\n",
    "#     return model.p_min <= model.p[s,t] <= model.p_max\n",
    "# model.price_constraints = Constraint(model.S, model.T, rule=price_constraints_rule)\n",
    "\n",
    "# def demand_constraints_rule(model, s):\n",
    "#     return model.d[s,t] <= model.d_max\n",
    "# model.demand_constraints = Constraint(model.S, rule=demand_constraints_rule)"
   ]
  }
 ],
 "metadata": {
  "kernelspec": {
   "display_name": "spring2021",
   "language": "python",
   "name": "python3"
  },
  "language_info": {
   "codemirror_mode": {
    "name": "ipython",
    "version": 3
   },
   "file_extension": ".py",
   "mimetype": "text/x-python",
   "name": "python",
   "nbconvert_exporter": "python",
   "pygments_lexer": "ipython3",
   "version": "3.8.18"
  }
 },
 "nbformat": 4,
 "nbformat_minor": 2
}
